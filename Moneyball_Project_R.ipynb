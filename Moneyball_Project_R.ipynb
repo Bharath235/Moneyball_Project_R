{
 "cells": [
  {
   "cell_type": "markdown",
   "metadata": {},
   "source": [
    "## Moneyball Project"
   ]
  },
  {
   "cell_type": "markdown",
   "metadata": {},
   "source": [
    "### Reading and Understanding the Data"
   ]
  },
  {
   "cell_type": "code",
   "execution_count": 1,
   "metadata": {},
   "outputs": [],
   "source": [
    "batting <- read.csv('Batting.csv')"
   ]
  },
  {
   "cell_type": "code",
   "execution_count": 2,
   "metadata": {},
   "outputs": [
    {
     "data": {
      "text/html": [
       "<table>\n",
       "<caption>A data.frame: 6 × 24</caption>\n",
       "<thead>\n",
       "\t<tr><th></th><th scope=col>playerID</th><th scope=col>yearID</th><th scope=col>stint</th><th scope=col>teamID</th><th scope=col>lgID</th><th scope=col>G</th><th scope=col>G_batting</th><th scope=col>AB</th><th scope=col>R</th><th scope=col>H</th><th scope=col>...</th><th scope=col>SB</th><th scope=col>CS</th><th scope=col>BB</th><th scope=col>SO</th><th scope=col>IBB</th><th scope=col>HBP</th><th scope=col>SH</th><th scope=col>SF</th><th scope=col>GIDP</th><th scope=col>G_old</th></tr>\n",
       "\t<tr><th></th><th scope=col>&lt;chr&gt;</th><th scope=col>&lt;int&gt;</th><th scope=col>&lt;int&gt;</th><th scope=col>&lt;chr&gt;</th><th scope=col>&lt;chr&gt;</th><th scope=col>&lt;int&gt;</th><th scope=col>&lt;int&gt;</th><th scope=col>&lt;int&gt;</th><th scope=col>&lt;int&gt;</th><th scope=col>&lt;int&gt;</th><th scope=col>...</th><th scope=col>&lt;int&gt;</th><th scope=col>&lt;int&gt;</th><th scope=col>&lt;int&gt;</th><th scope=col>&lt;int&gt;</th><th scope=col>&lt;int&gt;</th><th scope=col>&lt;int&gt;</th><th scope=col>&lt;int&gt;</th><th scope=col>&lt;int&gt;</th><th scope=col>&lt;int&gt;</th><th scope=col>&lt;int&gt;</th></tr>\n",
       "</thead>\n",
       "<tbody>\n",
       "\t<tr><th scope=row>1</th><td>aardsda01</td><td>2004</td><td>1</td><td>SFN</td><td>NL</td><td>11</td><td>11</td><td>0</td><td>0</td><td>0</td><td>...</td><td>0</td><td>0</td><td>0</td><td>0</td><td>0</td><td>0</td><td>0</td><td>0</td><td>0</td><td>11</td></tr>\n",
       "\t<tr><th scope=row>2</th><td>aardsda01</td><td>2006</td><td>1</td><td>CHN</td><td>NL</td><td>45</td><td>43</td><td>2</td><td>0</td><td>0</td><td>...</td><td>0</td><td>0</td><td>0</td><td>0</td><td>0</td><td>0</td><td>1</td><td>0</td><td>0</td><td>45</td></tr>\n",
       "\t<tr><th scope=row>3</th><td>aardsda01</td><td>2007</td><td>1</td><td>CHA</td><td>AL</td><td>25</td><td> 2</td><td>0</td><td>0</td><td>0</td><td>...</td><td>0</td><td>0</td><td>0</td><td>0</td><td>0</td><td>0</td><td>0</td><td>0</td><td>0</td><td> 2</td></tr>\n",
       "\t<tr><th scope=row>4</th><td>aardsda01</td><td>2008</td><td>1</td><td>BOS</td><td>AL</td><td>47</td><td> 5</td><td>1</td><td>0</td><td>0</td><td>...</td><td>0</td><td>0</td><td>0</td><td>1</td><td>0</td><td>0</td><td>0</td><td>0</td><td>0</td><td> 5</td></tr>\n",
       "\t<tr><th scope=row>5</th><td>aardsda01</td><td>2009</td><td>1</td><td>SEA</td><td>AL</td><td>73</td><td> 3</td><td>0</td><td>0</td><td>0</td><td>...</td><td>0</td><td>0</td><td>0</td><td>0</td><td>0</td><td>0</td><td>0</td><td>0</td><td>0</td><td>NA</td></tr>\n",
       "\t<tr><th scope=row>6</th><td>aardsda01</td><td>2010</td><td>1</td><td>SEA</td><td>AL</td><td>53</td><td> 4</td><td>0</td><td>0</td><td>0</td><td>...</td><td>0</td><td>0</td><td>0</td><td>0</td><td>0</td><td>0</td><td>0</td><td>0</td><td>0</td><td>NA</td></tr>\n",
       "</tbody>\n",
       "</table>\n"
      ],
      "text/latex": [
       "A data.frame: 6 × 24\n",
       "\\begin{tabular}{r|lllllllllllllllllllll}\n",
       "  & playerID & yearID & stint & teamID & lgID & G & G\\_batting & AB & R & H & ... & SB & CS & BB & SO & IBB & HBP & SH & SF & GIDP & G\\_old\\\\\n",
       "  & <chr> & <int> & <int> & <chr> & <chr> & <int> & <int> & <int> & <int> & <int> & ... & <int> & <int> & <int> & <int> & <int> & <int> & <int> & <int> & <int> & <int>\\\\\n",
       "\\hline\n",
       "\t1 & aardsda01 & 2004 & 1 & SFN & NL & 11 & 11 & 0 & 0 & 0 & ... & 0 & 0 & 0 & 0 & 0 & 0 & 0 & 0 & 0 & 11\\\\\n",
       "\t2 & aardsda01 & 2006 & 1 & CHN & NL & 45 & 43 & 2 & 0 & 0 & ... & 0 & 0 & 0 & 0 & 0 & 0 & 1 & 0 & 0 & 45\\\\\n",
       "\t3 & aardsda01 & 2007 & 1 & CHA & AL & 25 &  2 & 0 & 0 & 0 & ... & 0 & 0 & 0 & 0 & 0 & 0 & 0 & 0 & 0 &  2\\\\\n",
       "\t4 & aardsda01 & 2008 & 1 & BOS & AL & 47 &  5 & 1 & 0 & 0 & ... & 0 & 0 & 0 & 1 & 0 & 0 & 0 & 0 & 0 &  5\\\\\n",
       "\t5 & aardsda01 & 2009 & 1 & SEA & AL & 73 &  3 & 0 & 0 & 0 & ... & 0 & 0 & 0 & 0 & 0 & 0 & 0 & 0 & 0 & NA\\\\\n",
       "\t6 & aardsda01 & 2010 & 1 & SEA & AL & 53 &  4 & 0 & 0 & 0 & ... & 0 & 0 & 0 & 0 & 0 & 0 & 0 & 0 & 0 & NA\\\\\n",
       "\\end{tabular}\n"
      ],
      "text/markdown": [
       "\n",
       "A data.frame: 6 × 24\n",
       "\n",
       "| <!--/--> | playerID &lt;chr&gt; | yearID &lt;int&gt; | stint &lt;int&gt; | teamID &lt;chr&gt; | lgID &lt;chr&gt; | G &lt;int&gt; | G_batting &lt;int&gt; | AB &lt;int&gt; | R &lt;int&gt; | H &lt;int&gt; | ... ... | SB &lt;int&gt; | CS &lt;int&gt; | BB &lt;int&gt; | SO &lt;int&gt; | IBB &lt;int&gt; | HBP &lt;int&gt; | SH &lt;int&gt; | SF &lt;int&gt; | GIDP &lt;int&gt; | G_old &lt;int&gt; |\n",
       "|---|---|---|---|---|---|---|---|---|---|---|---|---|---|---|---|---|---|---|---|---|---|\n",
       "| 1 | aardsda01 | 2004 | 1 | SFN | NL | 11 | 11 | 0 | 0 | 0 | ... | 0 | 0 | 0 | 0 | 0 | 0 | 0 | 0 | 0 | 11 |\n",
       "| 2 | aardsda01 | 2006 | 1 | CHN | NL | 45 | 43 | 2 | 0 | 0 | ... | 0 | 0 | 0 | 0 | 0 | 0 | 1 | 0 | 0 | 45 |\n",
       "| 3 | aardsda01 | 2007 | 1 | CHA | AL | 25 |  2 | 0 | 0 | 0 | ... | 0 | 0 | 0 | 0 | 0 | 0 | 0 | 0 | 0 |  2 |\n",
       "| 4 | aardsda01 | 2008 | 1 | BOS | AL | 47 |  5 | 1 | 0 | 0 | ... | 0 | 0 | 0 | 1 | 0 | 0 | 0 | 0 | 0 |  5 |\n",
       "| 5 | aardsda01 | 2009 | 1 | SEA | AL | 73 |  3 | 0 | 0 | 0 | ... | 0 | 0 | 0 | 0 | 0 | 0 | 0 | 0 | 0 | NA |\n",
       "| 6 | aardsda01 | 2010 | 1 | SEA | AL | 53 |  4 | 0 | 0 | 0 | ... | 0 | 0 | 0 | 0 | 0 | 0 | 0 | 0 | 0 | NA |\n",
       "\n"
      ],
      "text/plain": [
       "  playerID  yearID stint teamID lgID G  G_batting AB R H ... SB CS BB SO IBB\n",
       "1 aardsda01 2004   1     SFN    NL   11 11        0  0 0 ... 0  0  0  0  0  \n",
       "2 aardsda01 2006   1     CHN    NL   45 43        2  0 0 ... 0  0  0  0  0  \n",
       "3 aardsda01 2007   1     CHA    AL   25  2        0  0 0 ... 0  0  0  0  0  \n",
       "4 aardsda01 2008   1     BOS    AL   47  5        1  0 0 ... 0  0  0  1  0  \n",
       "5 aardsda01 2009   1     SEA    AL   73  3        0  0 0 ... 0  0  0  0  0  \n",
       "6 aardsda01 2010   1     SEA    AL   53  4        0  0 0 ... 0  0  0  0  0  \n",
       "  HBP SH SF GIDP G_old\n",
       "1 0   0  0  0    11   \n",
       "2 0   1  0  0    45   \n",
       "3 0   0  0  0     2   \n",
       "4 0   0  0  0     5   \n",
       "5 0   0  0  0    NA   \n",
       "6 0   0  0  0    NA   "
      ]
     },
     "metadata": {},
     "output_type": "display_data"
    }
   ],
   "source": [
    "head(batting)"
   ]
  },
  {
   "cell_type": "code",
   "execution_count": 3,
   "metadata": {},
   "outputs": [
    {
     "name": "stdout",
     "output_type": "stream",
     "text": [
      "'data.frame':\t97889 obs. of  24 variables:\n",
      " $ playerID : chr  \"aardsda01\" \"aardsda01\" \"aardsda01\" \"aardsda01\" ...\n",
      " $ yearID   : int  2004 2006 2007 2008 2009 2010 2012 1954 1955 1956 ...\n",
      " $ stint    : int  1 1 1 1 1 1 1 1 1 1 ...\n",
      " $ teamID   : chr  \"SFN\" \"CHN\" \"CHA\" \"BOS\" ...\n",
      " $ lgID     : chr  \"NL\" \"NL\" \"AL\" \"AL\" ...\n",
      " $ G        : int  11 45 25 47 73 53 1 122 153 153 ...\n",
      " $ G_batting: int  11 43 2 5 3 4 NA 122 153 153 ...\n",
      " $ AB       : int  0 2 0 1 0 0 NA 468 602 609 ...\n",
      " $ R        : int  0 0 0 0 0 0 NA 58 105 106 ...\n",
      " $ H        : int  0 0 0 0 0 0 NA 131 189 200 ...\n",
      " $ X2B      : int  0 0 0 0 0 0 NA 27 37 34 ...\n",
      " $ X3B      : int  0 0 0 0 0 0 NA 6 9 14 ...\n",
      " $ HR       : int  0 0 0 0 0 0 NA 13 27 26 ...\n",
      " $ RBI      : int  0 0 0 0 0 0 NA 69 106 92 ...\n",
      " $ SB       : int  0 0 0 0 0 0 NA 2 3 2 ...\n",
      " $ CS       : int  0 0 0 0 0 0 NA 2 1 4 ...\n",
      " $ BB       : int  0 0 0 0 0 0 NA 28 49 37 ...\n",
      " $ SO       : int  0 0 0 1 0 0 NA 39 61 54 ...\n",
      " $ IBB      : int  0 0 0 0 0 0 NA NA 5 6 ...\n",
      " $ HBP      : int  0 0 0 0 0 0 NA 3 3 2 ...\n",
      " $ SH       : int  0 1 0 0 0 0 NA 6 7 5 ...\n",
      " $ SF       : int  0 0 0 0 0 0 NA 4 4 7 ...\n",
      " $ GIDP     : int  0 0 0 0 0 0 NA 13 20 21 ...\n",
      " $ G_old    : int  11 45 2 5 NA NA NA 122 153 153 ...\n"
     ]
    }
   ],
   "source": [
    "str(batting)"
   ]
  },
  {
   "cell_type": "code",
   "execution_count": 4,
   "metadata": {},
   "outputs": [
    {
     "data": {
      "text/html": [
       "<style>\n",
       ".list-inline {list-style: none; margin:0; padding: 0}\n",
       ".list-inline>li {display: inline-block}\n",
       ".list-inline>li:not(:last-child)::after {content: \"\\00b7\"; padding: 0 .5ex}\n",
       "</style>\n",
       "<ol class=list-inline><li>0</li><li>2</li><li>0</li><li>1</li><li>0</li><li>0</li></ol>\n"
      ],
      "text/latex": [
       "\\begin{enumerate*}\n",
       "\\item 0\n",
       "\\item 2\n",
       "\\item 0\n",
       "\\item 1\n",
       "\\item 0\n",
       "\\item 0\n",
       "\\end{enumerate*}\n"
      ],
      "text/markdown": [
       "1. 0\n",
       "2. 2\n",
       "3. 0\n",
       "4. 1\n",
       "5. 0\n",
       "6. 0\n",
       "\n",
       "\n"
      ],
      "text/plain": [
       "[1] 0 2 0 1 0 0"
      ]
     },
     "metadata": {},
     "output_type": "display_data"
    }
   ],
   "source": [
    "head(batting$AB)"
   ]
  },
  {
   "cell_type": "code",
   "execution_count": 5,
   "metadata": {},
   "outputs": [
    {
     "data": {
      "text/html": [
       "<style>\n",
       ".list-inline {list-style: none; margin:0; padding: 0}\n",
       ".list-inline>li {display: inline-block}\n",
       ".list-inline>li:not(:last-child)::after {content: \"\\00b7\"; padding: 0 .5ex}\n",
       "</style>\n",
       "<ol class=list-inline><li>0</li><li>0</li><li>0</li><li>0</li><li>0</li><li>0</li></ol>\n"
      ],
      "text/latex": [
       "\\begin{enumerate*}\n",
       "\\item 0\n",
       "\\item 0\n",
       "\\item 0\n",
       "\\item 0\n",
       "\\item 0\n",
       "\\item 0\n",
       "\\end{enumerate*}\n"
      ],
      "text/markdown": [
       "1. 0\n",
       "2. 0\n",
       "3. 0\n",
       "4. 0\n",
       "5. 0\n",
       "6. 0\n",
       "\n",
       "\n"
      ],
      "text/plain": [
       "[1] 0 0 0 0 0 0"
      ]
     },
     "metadata": {},
     "output_type": "display_data"
    }
   ],
   "source": [
    "head(batting$X2B)"
   ]
  },
  {
   "cell_type": "markdown",
   "metadata": {},
   "source": [
    "### Feature Engineering"
   ]
  },
  {
   "cell_type": "markdown",
   "metadata": {},
   "source": [
    "#### Batting Average"
   ]
  },
  {
   "cell_type": "code",
   "execution_count": 6,
   "metadata": {},
   "outputs": [],
   "source": [
    "batting$BA <- batting$H / batting$AB"
   ]
  },
  {
   "cell_type": "code",
   "execution_count": 7,
   "metadata": {},
   "outputs": [
    {
     "data": {
      "text/html": [
       "<style>\n",
       ".list-inline {list-style: none; margin:0; padding: 0}\n",
       ".list-inline>li {display: inline-block}\n",
       ".list-inline>li:not(:last-child)::after {content: \"\\00b7\"; padding: 0 .5ex}\n",
       "</style>\n",
       "<ol class=list-inline><li>0.123076923076923</li><li>0.274647887323944</li><li>0.147058823529412</li><li>0.274509803921569</li><li>0.213872832369942</li></ol>\n"
      ],
      "text/latex": [
       "\\begin{enumerate*}\n",
       "\\item 0.123076923076923\n",
       "\\item 0.274647887323944\n",
       "\\item 0.147058823529412\n",
       "\\item 0.274509803921569\n",
       "\\item 0.213872832369942\n",
       "\\end{enumerate*}\n"
      ],
      "text/markdown": [
       "1. 0.123076923076923\n",
       "2. 0.274647887323944\n",
       "3. 0.147058823529412\n",
       "4. 0.274509803921569\n",
       "5. 0.213872832369942\n",
       "\n",
       "\n"
      ],
      "text/plain": [
       "[1] 0.1230769 0.2746479 0.1470588 0.2745098 0.2138728"
      ]
     },
     "metadata": {},
     "output_type": "display_data"
    }
   ],
   "source": [
    "tail(batting$BA,5)"
   ]
  },
  {
   "cell_type": "markdown",
   "metadata": {},
   "source": [
    "#### On Base Percentage"
   ]
  },
  {
   "cell_type": "code",
   "execution_count": 8,
   "metadata": {},
   "outputs": [],
   "source": [
    "batting$OBP <- (batting$H + batting$BB + batting$HBP)/(batting$AB + batting$BB + batting$HBP + batting$SF)"
   ]
  },
  {
   "cell_type": "markdown",
   "metadata": {},
   "source": [
    "#### Slugging Average"
   ]
  },
  {
   "cell_type": "code",
   "execution_count": 9,
   "metadata": {},
   "outputs": [],
   "source": [
    "batting$X1B <- batting$H - batting$X2B - batting$X3B - batting$HR"
   ]
  },
  {
   "cell_type": "code",
   "execution_count": 10,
   "metadata": {},
   "outputs": [],
   "source": [
    "batting$SLG <- ((1*batting$X1B) + (2*batting$X2B) + (3*batting$X3B) + (4*batting$HR)) / batting$AB"
   ]
  },
  {
   "cell_type": "code",
   "execution_count": 11,
   "metadata": {},
   "outputs": [
    {
     "name": "stdout",
     "output_type": "stream",
     "text": [
      "'data.frame':\t97889 obs. of  28 variables:\n",
      " $ playerID : chr  \"aardsda01\" \"aardsda01\" \"aardsda01\" \"aardsda01\" ...\n",
      " $ yearID   : int  2004 2006 2007 2008 2009 2010 2012 1954 1955 1956 ...\n",
      " $ stint    : int  1 1 1 1 1 1 1 1 1 1 ...\n",
      " $ teamID   : chr  \"SFN\" \"CHN\" \"CHA\" \"BOS\" ...\n",
      " $ lgID     : chr  \"NL\" \"NL\" \"AL\" \"AL\" ...\n",
      " $ G        : int  11 45 25 47 73 53 1 122 153 153 ...\n",
      " $ G_batting: int  11 43 2 5 3 4 NA 122 153 153 ...\n",
      " $ AB       : int  0 2 0 1 0 0 NA 468 602 609 ...\n",
      " $ R        : int  0 0 0 0 0 0 NA 58 105 106 ...\n",
      " $ H        : int  0 0 0 0 0 0 NA 131 189 200 ...\n",
      " $ X2B      : int  0 0 0 0 0 0 NA 27 37 34 ...\n",
      " $ X3B      : int  0 0 0 0 0 0 NA 6 9 14 ...\n",
      " $ HR       : int  0 0 0 0 0 0 NA 13 27 26 ...\n",
      " $ RBI      : int  0 0 0 0 0 0 NA 69 106 92 ...\n",
      " $ SB       : int  0 0 0 0 0 0 NA 2 3 2 ...\n",
      " $ CS       : int  0 0 0 0 0 0 NA 2 1 4 ...\n",
      " $ BB       : int  0 0 0 0 0 0 NA 28 49 37 ...\n",
      " $ SO       : int  0 0 0 1 0 0 NA 39 61 54 ...\n",
      " $ IBB      : int  0 0 0 0 0 0 NA NA 5 6 ...\n",
      " $ HBP      : int  0 0 0 0 0 0 NA 3 3 2 ...\n",
      " $ SH       : int  0 1 0 0 0 0 NA 6 7 5 ...\n",
      " $ SF       : int  0 0 0 0 0 0 NA 4 4 7 ...\n",
      " $ GIDP     : int  0 0 0 0 0 0 NA 13 20 21 ...\n",
      " $ G_old    : int  11 45 2 5 NA NA NA 122 153 153 ...\n",
      " $ BA       : num  NaN 0 NaN 0 NaN ...\n",
      " $ OBP      : num  NaN 0 NaN 0 NaN ...\n",
      " $ X1B      : int  0 0 0 0 0 0 NA 85 116 126 ...\n",
      " $ SLG      : num  NaN 0 NaN 0 NaN ...\n"
     ]
    }
   ],
   "source": [
    "str(batting)"
   ]
  },
  {
   "cell_type": "code",
   "execution_count": 12,
   "metadata": {},
   "outputs": [
    {
     "data": {
      "text/plain": [
       "   playerID             yearID         stint          teamID         \n",
       " Length:97889       Min.   :1871   Min.   :1.000   Length:97889      \n",
       " Class :character   1st Qu.:1931   1st Qu.:1.000   Class :character  \n",
       " Mode  :character   Median :1970   Median :1.000   Mode  :character  \n",
       "                    Mean   :1962   Mean   :1.077                     \n",
       "                    3rd Qu.:1995   3rd Qu.:1.000                     \n",
       "                    Max.   :2013   Max.   :5.000                     \n",
       "                                                                     \n",
       "     lgID                 G            G_batting            AB       \n",
       " Length:97889       Min.   :  1.00   Min.   :  0.00   Min.   :  0.0  \n",
       " Class :character   1st Qu.: 13.00   1st Qu.:  7.00   1st Qu.:  9.0  \n",
       " Mode  :character   Median : 35.00   Median : 32.00   Median : 61.0  \n",
       "                    Mean   : 51.65   Mean   : 49.13   Mean   :154.1  \n",
       "                    3rd Qu.: 81.00   3rd Qu.: 81.00   3rd Qu.:260.0  \n",
       "                    Max.   :165.00   Max.   :165.00   Max.   :716.0  \n",
       "                                     NA's   :1406     NA's   :6413   \n",
       "       R                H               X2B            X3B        \n",
       " Min.   :  0.00   Min.   :  0.00   Min.   : 0.0   Min.   : 0.000  \n",
       " 1st Qu.:  0.00   1st Qu.:  1.00   1st Qu.: 0.0   1st Qu.: 0.000  \n",
       " Median :  5.00   Median : 12.00   Median : 2.0   Median : 0.000  \n",
       " Mean   : 20.47   Mean   : 40.37   Mean   : 6.8   Mean   : 1.424  \n",
       " 3rd Qu.: 31.00   3rd Qu.: 66.00   3rd Qu.:10.0   3rd Qu.: 2.000  \n",
       " Max.   :192.00   Max.   :262.00   Max.   :67.0   Max.   :36.000  \n",
       " NA's   :6413     NA's   :6413     NA's   :6413   NA's   :6413    \n",
       "       HR              RBI               SB                CS        \n",
       " Min.   : 0.000   Min.   :  0.00   Min.   :  0.000   Min.   : 0.000  \n",
       " 1st Qu.: 0.000   1st Qu.:  0.00   1st Qu.:  0.000   1st Qu.: 0.000  \n",
       " Median : 0.000   Median :  5.00   Median :  0.000   Median : 0.000  \n",
       " Mean   : 3.002   Mean   : 18.47   Mean   :  3.265   Mean   : 1.385  \n",
       " 3rd Qu.: 3.000   3rd Qu.: 28.00   3rd Qu.:  2.000   3rd Qu.: 1.000  \n",
       " Max.   :73.000   Max.   :191.00   Max.   :138.000   Max.   :42.000  \n",
       " NA's   :6413     NA's   :6837     NA's   :7713      NA's   :29867   \n",
       "       BB               SO              IBB              HBP        \n",
       " Min.   :  0.00   Min.   :  0.00   Min.   :  0.00   Min.   : 0.000  \n",
       " 1st Qu.:  0.00   1st Qu.:  2.00   1st Qu.:  0.00   1st Qu.: 0.000  \n",
       " Median :  4.00   Median : 11.00   Median :  0.00   Median : 0.000  \n",
       " Mean   : 14.21   Mean   : 21.95   Mean   :  1.28   Mean   : 1.136  \n",
       " 3rd Qu.: 21.00   3rd Qu.: 31.00   3rd Qu.:  1.00   3rd Qu.: 1.000  \n",
       " Max.   :232.00   Max.   :223.00   Max.   :120.00   Max.   :51.000  \n",
       " NA's   :6413     NA's   :14251    NA's   :42977    NA's   :9233    \n",
       "       SH               SF             GIDP           G_old       \n",
       " Min.   : 0.000   Min.   : 0.0    Min.   : 0.00   Min.   :  0.00  \n",
       " 1st Qu.: 0.000   1st Qu.: 0.0    1st Qu.: 0.00   1st Qu.: 11.00  \n",
       " Median : 1.000   Median : 0.0    Median : 1.00   Median : 34.00  \n",
       " Mean   : 2.564   Mean   : 1.2    Mean   : 3.33   Mean   : 50.99  \n",
       " 3rd Qu.: 3.000   3rd Qu.: 2.0    3rd Qu.: 5.00   3rd Qu.: 82.00  \n",
       " Max.   :67.000   Max.   :19.0    Max.   :36.00   Max.   :165.00  \n",
       " NA's   :12751    NA's   :42446   NA's   :32521   NA's   :5189    \n",
       "       BA             OBP             X1B              SLG       \n",
       " Min.   :0.000   Min.   :0.00    Min.   :  0.00   Min.   :0.000  \n",
       " 1st Qu.:0.148   1st Qu.:0.19    1st Qu.:  1.00   1st Qu.:0.179  \n",
       " Median :0.231   Median :0.29    Median :  9.00   Median :0.309  \n",
       " Mean   :0.209   Mean   :0.26    Mean   : 29.14   Mean   :0.291  \n",
       " 3rd Qu.:0.275   3rd Qu.:0.34    3rd Qu.: 48.00   3rd Qu.:0.397  \n",
       " Max.   :1.000   Max.   :1.00    Max.   :225.00   Max.   :4.000  \n",
       " NA's   :13520   NA's   :49115   NA's   :6413     NA's   :13520  "
      ]
     },
     "metadata": {},
     "output_type": "display_data"
    }
   ],
   "source": [
    "summary(batting)"
   ]
  },
  {
   "cell_type": "markdown",
   "metadata": {},
   "source": [
    "#### Excluding data before 1985"
   ]
  },
  {
   "cell_type": "code",
   "execution_count": 13,
   "metadata": {},
   "outputs": [],
   "source": [
    "batting <- subset(batting, yearID>=1985)"
   ]
  },
  {
   "cell_type": "code",
   "execution_count": 14,
   "metadata": {},
   "outputs": [
    {
     "data": {
      "text/plain": [
       "   playerID             yearID         stint         teamID         \n",
       " Length:35652       Min.   :1985   Min.   :1.00   Length:35652      \n",
       " Class :character   1st Qu.:1993   1st Qu.:1.00   Class :character  \n",
       " Mode  :character   Median :2000   Median :1.00   Mode  :character  \n",
       "                    Mean   :2000   Mean   :1.08                     \n",
       "                    3rd Qu.:2007   3rd Qu.:1.00                     \n",
       "                    Max.   :2013   Max.   :4.00                     \n",
       "                                                                    \n",
       "     lgID                 G           G_batting            AB       \n",
       " Length:35652       Min.   :  1.0   Min.   :  0.00   Min.   :  0.0  \n",
       " Class :character   1st Qu.: 14.0   1st Qu.:  4.00   1st Qu.:  3.0  \n",
       " Mode  :character   Median : 34.0   Median : 27.00   Median : 47.0  \n",
       "                    Mean   : 51.7   Mean   : 46.28   Mean   :144.7  \n",
       "                    3rd Qu.: 77.0   3rd Qu.: 77.00   3rd Qu.:241.0  \n",
       "                    Max.   :163.0   Max.   :163.00   Max.   :716.0  \n",
       "                                    NA's   :1406     NA's   :4377   \n",
       "       R                H               X2B              X3B        \n",
       " Min.   :  0.00   Min.   :  0.00   Min.   : 0.000   Min.   : 0.000  \n",
       " 1st Qu.:  0.00   1st Qu.:  0.00   1st Qu.: 0.000   1st Qu.: 0.000  \n",
       " Median :  4.00   Median :  8.00   Median : 1.000   Median : 0.000  \n",
       " Mean   : 19.44   Mean   : 37.95   Mean   : 7.293   Mean   : 0.824  \n",
       " 3rd Qu.: 30.00   3rd Qu.: 61.00   3rd Qu.:11.000   3rd Qu.: 1.000  \n",
       " Max.   :152.00   Max.   :262.00   Max.   :59.000   Max.   :23.000  \n",
       " NA's   :4377     NA's   :4377     NA's   :4377     NA's   :4377    \n",
       "       HR              RBI               SB                CS        \n",
       " Min.   : 0.000   Min.   :  0.00   Min.   :  0.000   Min.   : 0.000  \n",
       " 1st Qu.: 0.000   1st Qu.:  0.00   1st Qu.:  0.000   1st Qu.: 0.000  \n",
       " Median : 0.000   Median :  3.00   Median :  0.000   Median : 0.000  \n",
       " Mean   : 4.169   Mean   : 18.41   Mean   :  2.811   Mean   : 1.219  \n",
       " 3rd Qu.: 5.000   3rd Qu.: 27.00   3rd Qu.:  2.000   3rd Qu.: 1.000  \n",
       " Max.   :73.000   Max.   :165.00   Max.   :110.000   Max.   :29.000  \n",
       " NA's   :4377     NA's   :4377     NA's   :4377      NA's   :4377    \n",
       "       BB               SO              IBB               HBP        \n",
       " Min.   :  0.00   Min.   :  0.00   Min.   :  0.000   Min.   : 0.000  \n",
       " 1st Qu.:  0.00   1st Qu.:  1.00   1st Qu.:  0.000   1st Qu.: 0.000  \n",
       " Median :  3.00   Median : 12.00   Median :  0.000   Median : 0.000  \n",
       " Mean   : 14.06   Mean   : 27.03   Mean   :  1.171   Mean   : 1.273  \n",
       " 3rd Qu.: 21.00   3rd Qu.: 42.00   3rd Qu.:  1.000   3rd Qu.: 1.000  \n",
       " Max.   :232.00   Max.   :223.00   Max.   :120.000   Max.   :35.000  \n",
       " NA's   :4377     NA's   :4377     NA's   :4378      NA's   :4387    \n",
       "       SH               SF              GIDP           G_old      \n",
       " Min.   : 0.000   Min.   : 0.000   Min.   : 0.00   Min.   :  0.0  \n",
       " 1st Qu.: 0.000   1st Qu.: 0.000   1st Qu.: 0.00   1st Qu.: 11.0  \n",
       " Median : 0.000   Median : 0.000   Median : 1.00   Median : 32.0  \n",
       " Mean   : 1.465   Mean   : 1.212   Mean   : 3.25   Mean   : 49.7  \n",
       " 3rd Qu.: 2.000   3rd Qu.: 2.000   3rd Qu.: 5.00   3rd Qu.: 77.0  \n",
       " Max.   :39.000   Max.   :17.000   Max.   :35.00   Max.   :163.0  \n",
       " NA's   :4377     NA's   :4378     NA's   :4377    NA's   :5189   \n",
       "       BA             OBP             X1B              SLG       \n",
       " Min.   :0.000   Min.   :0.000   Min.   :  0.00   Min.   :0.000  \n",
       " 1st Qu.:0.136   1st Qu.:0.188   1st Qu.:  0.00   1st Qu.:0.167  \n",
       " Median :0.233   Median :0.296   Median :  6.00   Median :0.333  \n",
       " Mean   :0.205   Mean   :0.262   Mean   : 25.66   Mean   :0.304  \n",
       " 3rd Qu.:0.274   3rd Qu.:0.342   3rd Qu.: 42.00   3rd Qu.:0.423  \n",
       " Max.   :1.000   Max.   :1.000   Max.   :225.00   Max.   :4.000  \n",
       " NA's   :8905    NA's   :8821    NA's   :4377     NA's   :8905   "
      ]
     },
     "metadata": {},
     "output_type": "display_data"
    }
   ],
   "source": [
    "summary(batting)"
   ]
  },
  {
   "cell_type": "code",
   "execution_count": 15,
   "metadata": {},
   "outputs": [],
   "source": [
    "sal <- read.csv('Salaries.csv')"
   ]
  },
  {
   "cell_type": "code",
   "execution_count": 16,
   "metadata": {},
   "outputs": [
    {
     "data": {
      "text/plain": [
       "     yearID        teamID              lgID             playerID        \n",
       " Min.   :1985   Length:23956       Length:23956       Length:23956      \n",
       " 1st Qu.:1993   Class :character   Class :character   Class :character  \n",
       " Median :1999   Mode  :character   Mode  :character   Mode  :character  \n",
       " Mean   :1999                                                           \n",
       " 3rd Qu.:2006                                                           \n",
       " Max.   :2013                                                           \n",
       "     salary        \n",
       " Min.   :       0  \n",
       " 1st Qu.:  250000  \n",
       " Median :  507950  \n",
       " Mean   : 1864357  \n",
       " 3rd Qu.: 2100000  \n",
       " Max.   :33000000  "
      ]
     },
     "metadata": {},
     "output_type": "display_data"
    }
   ],
   "source": [
    "summary(sal)"
   ]
  },
  {
   "cell_type": "markdown",
   "metadata": {},
   "source": [
    "### Merging Salaries data with Batting data"
   ]
  },
  {
   "cell_type": "code",
   "execution_count": 17,
   "metadata": {},
   "outputs": [],
   "source": [
    "combo <- merge(batting,sal,by=c('playerID','yearID'))"
   ]
  },
  {
   "cell_type": "code",
   "execution_count": 18,
   "metadata": {},
   "outputs": [
    {
     "data": {
      "text/plain": [
       "   playerID             yearID         stint         teamID.x        \n",
       " Length:25397       Min.   :1985   Min.   :1.000   Length:25397      \n",
       " Class :character   1st Qu.:1993   1st Qu.:1.000   Class :character  \n",
       " Mode  :character   Median :1999   Median :1.000   Mode  :character  \n",
       "                    Mean   :1999   Mean   :1.098                     \n",
       "                    3rd Qu.:2006   3rd Qu.:1.000                     \n",
       "                    Max.   :2013   Max.   :4.000                     \n",
       "                                                                     \n",
       "    lgID.x                G            G_batting            AB       \n",
       " Length:25397       Min.   :  1.00   Min.   :  0.00   Min.   :  0.0  \n",
       " Class :character   1st Qu.: 26.00   1st Qu.:  8.00   1st Qu.:  5.0  \n",
       " Mode  :character   Median : 50.00   Median : 42.00   Median : 85.0  \n",
       "                    Mean   : 64.06   Mean   : 57.58   Mean   :182.4  \n",
       "                    3rd Qu.:101.00   3rd Qu.:101.00   3rd Qu.:336.0  \n",
       "                    Max.   :163.00   Max.   :163.00   Max.   :716.0  \n",
       "                                     NA's   :906      NA's   :2661   \n",
       "       R                H               X2B              X3B        \n",
       " Min.   :  0.00   Min.   :  0.00   Min.   : 0.000   Min.   : 0.000  \n",
       " 1st Qu.:  0.00   1st Qu.:  1.00   1st Qu.: 0.000   1st Qu.: 0.000  \n",
       " Median :  9.00   Median : 19.00   Median : 3.000   Median : 0.000  \n",
       " Mean   : 24.71   Mean   : 48.18   Mean   : 9.276   Mean   : 1.033  \n",
       " 3rd Qu.: 43.00   3rd Qu.: 87.25   3rd Qu.:16.000   3rd Qu.: 1.000  \n",
       " Max.   :152.00   Max.   :262.00   Max.   :59.000   Max.   :23.000  \n",
       " NA's   :2661     NA's   :2661     NA's   :2661     NA's   :2661    \n",
       "       HR              RBI               SB                CS       \n",
       " Min.   : 0.000   Min.   :  0.00   Min.   :  0.000   Min.   : 0.00  \n",
       " 1st Qu.: 0.000   1st Qu.:  0.00   1st Qu.:  0.000   1st Qu.: 0.00  \n",
       " Median : 1.000   Median :  8.00   Median :  0.000   Median : 0.00  \n",
       " Mean   : 5.369   Mean   : 23.56   Mean   :  3.568   Mean   : 1.54  \n",
       " 3rd Qu.: 7.000   3rd Qu.: 39.00   3rd Qu.:  3.000   3rd Qu.: 2.00  \n",
       " Max.   :73.000   Max.   :165.00   Max.   :110.000   Max.   :29.00  \n",
       " NA's   :2661     NA's   :2661     NA's   :2661      NA's   :2661   \n",
       "       BB               SO              IBB               HBP        \n",
       " Min.   :  0.00   Min.   :  0.00   Min.   :  0.000   Min.   : 0.000  \n",
       " 1st Qu.:  0.00   1st Qu.:  2.00   1st Qu.:  0.000   1st Qu.: 0.000  \n",
       " Median :  6.00   Median : 20.00   Median :  0.000   Median : 0.000  \n",
       " Mean   : 17.98   Mean   : 33.52   Mean   :  1.533   Mean   : 1.614  \n",
       " 3rd Qu.: 29.00   3rd Qu.: 55.00   3rd Qu.:  2.000   3rd Qu.: 2.000  \n",
       " Max.   :232.00   Max.   :223.00   Max.   :120.000   Max.   :35.000  \n",
       " NA's   :2661     NA's   :2661     NA's   :2662      NA's   :2670    \n",
       "       SH               SF              GIDP            G_old       \n",
       " Min.   : 0.000   Min.   : 0.000   Min.   : 0.000   Min.   :  0.00  \n",
       " 1st Qu.: 0.000   1st Qu.: 0.000   1st Qu.: 0.000   1st Qu.: 20.00  \n",
       " Median : 0.000   Median : 0.000   Median : 2.000   Median : 47.00  \n",
       " Mean   : 1.786   Mean   : 1.554   Mean   : 4.127   Mean   : 61.43  \n",
       " 3rd Qu.: 2.000   3rd Qu.: 2.000   3rd Qu.: 7.000   3rd Qu.:101.00  \n",
       " Max.   :39.000   Max.   :17.000   Max.   :35.000   Max.   :163.00  \n",
       " NA's   :2661     NA's   :2662     NA's   :2661     NA's   :3414    \n",
       "       BA             OBP             X1B             SLG       \n",
       " Min.   :0.000   Min.   :0.000   Min.   :  0.0   Min.   :0.000  \n",
       " 1st Qu.:0.160   1st Qu.:0.208   1st Qu.:  0.0   1st Qu.:0.200  \n",
       " Median :0.242   Median :0.305   Median : 13.0   Median :0.351  \n",
       " Mean   :0.212   Mean   :0.270   Mean   : 32.5   Mean   :0.317  \n",
       " 3rd Qu.:0.276   3rd Qu.:0.346   3rd Qu.: 59.0   3rd Qu.:0.432  \n",
       " Max.   :1.000   Max.   :1.000   Max.   :225.0   Max.   :4.000  \n",
       " NA's   :5618    NA's   :5562    NA's   :2661    NA's   :5618   \n",
       "   teamID.y            lgID.y              salary        \n",
       " Length:25397       Length:25397       Min.   :       0  \n",
       " Class :character   Class :character   1st Qu.:  255000  \n",
       " Mode  :character   Mode  :character   Median :  550000  \n",
       "                                       Mean   : 1879256  \n",
       "                                       3rd Qu.: 2150000  \n",
       "                                       Max.   :33000000  \n",
       "                                                         "
      ]
     },
     "metadata": {},
     "output_type": "display_data"
    }
   ],
   "source": [
    "summary(combo)"
   ]
  },
  {
   "cell_type": "markdown",
   "metadata": {},
   "source": [
    "### Analysing Lost Players"
   ]
  },
  {
   "cell_type": "code",
   "execution_count": 19,
   "metadata": {},
   "outputs": [],
   "source": [
    "lost_players <- subset(combo, playerID %in% c('giambja01', 'damonjo01','saenzol01'))"
   ]
  },
  {
   "cell_type": "code",
   "execution_count": 20,
   "metadata": {},
   "outputs": [],
   "source": [
    "lost_players <- subset(lost_players, yearID==2001)"
   ]
  },
  {
   "cell_type": "code",
   "execution_count": 21,
   "metadata": {},
   "outputs": [
    {
     "data": {
      "text/html": [
       "<table>\n",
       "<caption>A data.frame: 3 × 9</caption>\n",
       "<thead>\n",
       "\t<tr><th></th><th scope=col>playerID</th><th scope=col>H</th><th scope=col>X2B</th><th scope=col>X3B</th><th scope=col>HR</th><th scope=col>OBP</th><th scope=col>SLG</th><th scope=col>BA</th><th scope=col>AB</th></tr>\n",
       "\t<tr><th></th><th scope=col>&lt;chr&gt;</th><th scope=col>&lt;int&gt;</th><th scope=col>&lt;int&gt;</th><th scope=col>&lt;int&gt;</th><th scope=col>&lt;int&gt;</th><th scope=col>&lt;dbl&gt;</th><th scope=col>&lt;dbl&gt;</th><th scope=col>&lt;dbl&gt;</th><th scope=col>&lt;int&gt;</th></tr>\n",
       "</thead>\n",
       "<tbody>\n",
       "\t<tr><th scope=row>5141</th><td>damonjo01</td><td>165</td><td>34</td><td>4</td><td> 9</td><td>0.3235294</td><td>0.3633540</td><td>0.2562112</td><td>644</td></tr>\n",
       "\t<tr><th scope=row>7878</th><td>giambja01</td><td>178</td><td>47</td><td>2</td><td>38</td><td>0.4769001</td><td>0.6596154</td><td>0.3423077</td><td>520</td></tr>\n",
       "\t<tr><th scope=row>20114</th><td>saenzol01</td><td> 67</td><td>21</td><td>1</td><td> 9</td><td>0.2911765</td><td>0.3836066</td><td>0.2196721</td><td>305</td></tr>\n",
       "</tbody>\n",
       "</table>\n"
      ],
      "text/latex": [
       "A data.frame: 3 × 9\n",
       "\\begin{tabular}{r|lllllllll}\n",
       "  & playerID & H & X2B & X3B & HR & OBP & SLG & BA & AB\\\\\n",
       "  & <chr> & <int> & <int> & <int> & <int> & <dbl> & <dbl> & <dbl> & <int>\\\\\n",
       "\\hline\n",
       "\t5141 & damonjo01 & 165 & 34 & 4 &  9 & 0.3235294 & 0.3633540 & 0.2562112 & 644\\\\\n",
       "\t7878 & giambja01 & 178 & 47 & 2 & 38 & 0.4769001 & 0.6596154 & 0.3423077 & 520\\\\\n",
       "\t20114 & saenzol01 &  67 & 21 & 1 &  9 & 0.2911765 & 0.3836066 & 0.2196721 & 305\\\\\n",
       "\\end{tabular}\n"
      ],
      "text/markdown": [
       "\n",
       "A data.frame: 3 × 9\n",
       "\n",
       "| <!--/--> | playerID &lt;chr&gt; | H &lt;int&gt; | X2B &lt;int&gt; | X3B &lt;int&gt; | HR &lt;int&gt; | OBP &lt;dbl&gt; | SLG &lt;dbl&gt; | BA &lt;dbl&gt; | AB &lt;int&gt; |\n",
       "|---|---|---|---|---|---|---|---|---|---|\n",
       "| 5141 | damonjo01 | 165 | 34 | 4 |  9 | 0.3235294 | 0.3633540 | 0.2562112 | 644 |\n",
       "| 7878 | giambja01 | 178 | 47 | 2 | 38 | 0.4769001 | 0.6596154 | 0.3423077 | 520 |\n",
       "| 20114 | saenzol01 |  67 | 21 | 1 |  9 | 0.2911765 | 0.3836066 | 0.2196721 | 305 |\n",
       "\n"
      ],
      "text/plain": [
       "      playerID  H   X2B X3B HR OBP       SLG       BA        AB \n",
       "5141  damonjo01 165 34  4    9 0.3235294 0.3633540 0.2562112 644\n",
       "7878  giambja01 178 47  2   38 0.4769001 0.6596154 0.3423077 520\n",
       "20114 saenzol01  67 21  1    9 0.2911765 0.3836066 0.2196721 305"
      ]
     },
     "metadata": {},
     "output_type": "display_data"
    }
   ],
   "source": [
    "lost_players <- lost_players[,c('playerID', 'H', 'X2B', 'X3B', 'HR', 'OBP', 'SLG', 'BA', 'AB')]\n",
    "lost_players"
   ]
  },
  {
   "cell_type": "markdown",
   "metadata": {},
   "source": [
    "### Replacement Players"
   ]
  },
  {
   "cell_type": "code",
   "execution_count": 22,
   "metadata": {},
   "outputs": [
    {
     "name": "stdout",
     "output_type": "stream",
     "text": [
      "'data.frame':\t915 obs. of  31 variables:\n",
      " $ playerID : chr  \"abbotje01\" \"abbotku01\" \"abbotpa01\" \"abreubo01\" ...\n",
      " $ yearID   : int  2001 2001 2001 2001 2001 2001 2001 2001 2001 2001 ...\n",
      " $ stint    : int  1 1 1 1 1 1 1 1 1 1 ...\n",
      " $ teamID.x : chr  \"FLO\" \"ATL\" \"SEA\" \"PHI\" ...\n",
      " $ lgID.x   : chr  \"NL\" \"NL\" \"AL\" \"NL\" ...\n",
      " $ G        : int  28 6 28 162 43 91 58 124 113 57 ...\n",
      " $ G_batting: int  28 6 2 162 41 91 54 124 113 57 ...\n",
      " $ AB       : int  42 9 4 588 39 296 0 457 387 175 ...\n",
      " $ R        : int  5 0 0 118 2 28 0 64 44 20 ...\n",
      " $ H        : int  11 2 1 170 2 82 0 111 106 46 ...\n",
      " $ X2B      : int  3 0 0 48 1 14 0 22 16 13 ...\n",
      " $ X3B      : int  0 0 0 4 0 2 0 0 4 2 ...\n",
      " $ HR       : int  0 0 0 31 0 6 0 17 4 4 ...\n",
      " $ RBI      : int  5 0 0 110 1 27 0 49 32 20 ...\n",
      " $ SB       : int  0 1 0 36 0 4 0 5 8 1 ...\n",
      " $ CS       : int  0 0 0 14 0 5 0 0 6 2 ...\n",
      " $ BB       : int  3 0 0 106 3 36 0 51 23 19 ...\n",
      " $ SO       : int  7 3 1 137 19 73 0 62 56 37 ...\n",
      " $ IBB      : int  0 0 0 11 0 0 0 0 0 1 ...\n",
      " $ HBP      : int  1 0 0 1 0 5 0 5 4 0 ...\n",
      " $ SH       : int  0 0 1 0 5 1 0 1 3 0 ...\n",
      " $ SF       : int  0 0 0 9 1 1 0 5 1 1 ...\n",
      " $ GIDP     : int  1 0 0 13 0 11 0 7 6 7 ...\n",
      " $ G_old    : int  28 6 2 162 41 91 54 124 113 57 ...\n",
      " $ BA       : num  0.2619 0.2222 0.25 0.2891 0.0513 ...\n",
      " $ OBP      : num  0.326 0.222 0.25 0.393 0.116 ...\n",
      " $ X1B      : int  8 2 1 87 1 60 0 72 82 27 ...\n",
      " $ SLG      : num  0.3333 0.2222 0.25 0.5425 0.0769 ...\n",
      " $ teamID.y : chr  \"FLO\" \"ATL\" \"SEA\" \"PHI\" ...\n",
      " $ lgID.y   : chr  \"NL\" \"NL\" \"AL\" \"NL\" ...\n",
      " $ salary   : int  300000 600000 1700000 4983000 2600000 260000 2450000 5750000 800000 240000 ...\n"
     ]
    }
   ],
   "source": [
    "combo <- subset(combo, yearID==2001)\n",
    "str(combo)"
   ]
  },
  {
   "cell_type": "code",
   "execution_count": 23,
   "metadata": {},
   "outputs": [
    {
     "name": "stderr",
     "output_type": "stream",
     "text": [
      "\n",
      "Attaching package: 'dplyr'\n",
      "\n",
      "\n",
      "The following objects are masked from 'package:stats':\n",
      "\n",
      "    filter, lag\n",
      "\n",
      "\n",
      "The following objects are masked from 'package:base':\n",
      "\n",
      "    intersect, setdiff, setequal, union\n",
      "\n",
      "\n"
     ]
    }
   ],
   "source": [
    "library(ggplot2)\n",
    "library(dplyr)"
   ]
  },
  {
   "cell_type": "code",
   "execution_count": 24,
   "metadata": {},
   "outputs": [
    {
     "name": "stderr",
     "output_type": "stream",
     "text": [
      "Warning message:\n",
      "\"Removed 168 rows containing missing values (geom_point).\"\n"
     ]
    },
    {
     "data": {
      "image/png": "[encoded data removed]",
      "text/plain": [
       "plot without title"
      ]
     },
     "metadata": {
      "image/png": {
       "height": 420,
       "width": 420
      }
     },
     "output_type": "display_data"
    }
   ],
   "source": [
    "ggplot(combo, aes(x=OBP, y=salary)) + geom_point()"
   ]
  },
  {
   "cell_type": "markdown",
   "metadata": {},
   "source": [
    "#### Filtering for players with salary<8Mn. Excluding players with OBP=0 "
   ]
  },
  {
   "cell_type": "code",
   "execution_count": 25,
   "metadata": {},
   "outputs": [
    {
     "name": "stdout",
     "output_type": "stream",
     "text": [
      "'data.frame':\t602 obs. of  31 variables:\n",
      " $ playerID : chr  \"abbotje01\" \"abbotku01\" \"abbotpa01\" \"abreubo01\" ...\n",
      " $ yearID   : int  2001 2001 2001 2001 2001 2001 2001 2001 2001 2001 ...\n",
      " $ stint    : int  1 1 1 1 1 1 1 1 1 1 ...\n",
      " $ teamID.x : chr  \"FLO\" \"ATL\" \"SEA\" \"PHI\" ...\n",
      " $ lgID.x   : chr  \"NL\" \"NL\" \"AL\" \"NL\" ...\n",
      " $ G        : int  28 6 28 162 43 91 124 113 57 157 ...\n",
      " $ G_batting: int  28 6 2 162 41 91 124 113 57 157 ...\n",
      " $ AB       : int  42 9 4 588 39 296 457 387 175 575 ...\n",
      " $ R        : int  5 0 0 118 2 28 64 44 20 113 ...\n",
      " $ H        : int  11 2 1 170 2 82 111 106 46 193 ...\n",
      " $ X2B      : int  3 0 0 48 1 14 22 16 13 34 ...\n",
      " $ X3B      : int  0 0 0 4 0 2 0 4 2 12 ...\n",
      " $ HR       : int  0 0 0 31 0 6 17 4 4 20 ...\n",
      " $ RBI      : int  5 0 0 110 1 27 49 32 20 100 ...\n",
      " $ SB       : int  0 1 0 36 0 4 5 8 1 30 ...\n",
      " $ CS       : int  0 0 0 14 0 5 0 6 2 6 ...\n",
      " $ BB       : int  3 0 0 106 3 36 51 23 19 80 ...\n",
      " $ SO       : int  7 3 1 137 19 73 62 56 37 71 ...\n",
      " $ IBB      : int  0 0 0 11 0 0 0 0 1 5 ...\n",
      " $ HBP      : int  1 0 0 1 0 5 5 4 0 4 ...\n",
      " $ SH       : int  0 0 1 0 5 1 1 3 0 9 ...\n",
      " $ SF       : int  0 0 0 9 1 1 5 1 1 9 ...\n",
      " $ GIDP     : int  1 0 0 13 0 11 7 6 7 9 ...\n",
      " $ G_old    : int  28 6 2 162 41 91 124 113 57 157 ...\n",
      " $ BA       : num  0.2619 0.2222 0.25 0.2891 0.0513 ...\n",
      " $ OBP      : num  0.326 0.222 0.25 0.393 0.116 ...\n",
      " $ X1B      : int  8 2 1 87 1 60 72 82 27 127 ...\n",
      " $ SLG      : num  0.3333 0.2222 0.25 0.5425 0.0769 ...\n",
      " $ teamID.y : chr  \"FLO\" \"ATL\" \"SEA\" \"PHI\" ...\n",
      " $ lgID.y   : chr  \"NL\" \"NL\" \"AL\" \"NL\" ...\n",
      " $ salary   : int  300000 600000 1700000 4983000 2600000 260000 5750000 800000 240000 7750000 ...\n"
     ]
    }
   ],
   "source": [
    "combo <- subset(combo, salary < 8000000 & OBP > 0)\n",
    "str(combo)"
   ]
  },
  {
   "cell_type": "markdown",
   "metadata": {},
   "source": [
    "#### total AB of lost players=1469 ~ 1500. Lets cutoff possible targets AB at 500 i.e., 1500/3"
   ]
  },
  {
   "cell_type": "code",
   "execution_count": 26,
   "metadata": {},
   "outputs": [],
   "source": [
    "combo <- subset(combo, AB>=500)"
   ]
  },
  {
   "cell_type": "markdown",
   "metadata": {},
   "source": [
    "#### Sort by OBP"
   ]
  },
  {
   "cell_type": "code",
   "execution_count": 27,
   "metadata": {},
   "outputs": [],
   "source": [
    "targets <- head(arrange(combo, desc(OBP)),10)"
   ]
  },
  {
   "cell_type": "code",
   "execution_count": 28,
   "metadata": {},
   "outputs": [
    {
     "data": {
      "text/html": [
       "<table>\n",
       "<caption>A data.frame: 10 × 4</caption>\n",
       "<thead>\n",
       "\t<tr><th></th><th scope=col>playerID</th><th scope=col>OBP</th><th scope=col>AB</th><th scope=col>salary</th></tr>\n",
       "\t<tr><th></th><th scope=col>&lt;chr&gt;</th><th scope=col>&lt;dbl&gt;</th><th scope=col>&lt;int&gt;</th><th scope=col>&lt;int&gt;</th></tr>\n",
       "</thead>\n",
       "<tbody>\n",
       "\t<tr><th scope=row>1</th><td>giambja01</td><td>0.4769001</td><td>520</td><td>4103333</td></tr>\n",
       "\t<tr><th scope=row>2</th><td>heltoto01</td><td>0.4316547</td><td>587</td><td>4950000</td></tr>\n",
       "\t<tr><th scope=row>3</th><td>berkmla01</td><td>0.4302326</td><td>577</td><td> 305000</td></tr>\n",
       "\t<tr><th scope=row>4</th><td>gonzalu01</td><td>0.4285714</td><td>609</td><td>4833333</td></tr>\n",
       "\t<tr><th scope=row>5</th><td>thomeji01</td><td>0.4161491</td><td>526</td><td>7875000</td></tr>\n",
       "\t<tr><th scope=row>6</th><td>alomaro01</td><td>0.4146707</td><td>575</td><td>7750000</td></tr>\n",
       "\t<tr><th scope=row>7</th><td>edmonji01</td><td>0.4102142</td><td>500</td><td>6333333</td></tr>\n",
       "\t<tr><th scope=row>8</th><td>gilesbr02</td><td>0.4035608</td><td>576</td><td>7333333</td></tr>\n",
       "\t<tr><th scope=row>9</th><td>pujolal01</td><td>0.4029630</td><td>590</td><td> 200000</td></tr>\n",
       "\t<tr><th scope=row>10</th><td>olerujo01</td><td>0.4011799</td><td>572</td><td>6700000</td></tr>\n",
       "</tbody>\n",
       "</table>\n"
      ],
      "text/latex": [
       "A data.frame: 10 × 4\n",
       "\\begin{tabular}{r|llll}\n",
       "  & playerID & OBP & AB & salary\\\\\n",
       "  & <chr> & <dbl> & <int> & <int>\\\\\n",
       "\\hline\n",
       "\t1 & giambja01 & 0.4769001 & 520 & 4103333\\\\\n",
       "\t2 & heltoto01 & 0.4316547 & 587 & 4950000\\\\\n",
       "\t3 & berkmla01 & 0.4302326 & 577 &  305000\\\\\n",
       "\t4 & gonzalu01 & 0.4285714 & 609 & 4833333\\\\\n",
       "\t5 & thomeji01 & 0.4161491 & 526 & 7875000\\\\\n",
       "\t6 & alomaro01 & 0.4146707 & 575 & 7750000\\\\\n",
       "\t7 & edmonji01 & 0.4102142 & 500 & 6333333\\\\\n",
       "\t8 & gilesbr02 & 0.4035608 & 576 & 7333333\\\\\n",
       "\t9 & pujolal01 & 0.4029630 & 590 &  200000\\\\\n",
       "\t10 & olerujo01 & 0.4011799 & 572 & 6700000\\\\\n",
       "\\end{tabular}\n"
      ],
      "text/markdown": [
       "\n",
       "A data.frame: 10 × 4\n",
       "\n",
       "| <!--/--> | playerID &lt;chr&gt; | OBP &lt;dbl&gt; | AB &lt;int&gt; | salary &lt;int&gt; |\n",
       "|---|---|---|---|---|\n",
       "| 1 | giambja01 | 0.4769001 | 520 | 4103333 |\n",
       "| 2 | heltoto01 | 0.4316547 | 587 | 4950000 |\n",
       "| 3 | berkmla01 | 0.4302326 | 577 |  305000 |\n",
       "| 4 | gonzalu01 | 0.4285714 | 609 | 4833333 |\n",
       "| 5 | thomeji01 | 0.4161491 | 526 | 7875000 |\n",
       "| 6 | alomaro01 | 0.4146707 | 575 | 7750000 |\n",
       "| 7 | edmonji01 | 0.4102142 | 500 | 6333333 |\n",
       "| 8 | gilesbr02 | 0.4035608 | 576 | 7333333 |\n",
       "| 9 | pujolal01 | 0.4029630 | 590 |  200000 |\n",
       "| 10 | olerujo01 | 0.4011799 | 572 | 6700000 |\n",
       "\n"
      ],
      "text/plain": [
       "   playerID  OBP       AB  salary \n",
       "1  giambja01 0.4769001 520 4103333\n",
       "2  heltoto01 0.4316547 587 4950000\n",
       "3  berkmla01 0.4302326 577  305000\n",
       "4  gonzalu01 0.4285714 609 4833333\n",
       "5  thomeji01 0.4161491 526 7875000\n",
       "6  alomaro01 0.4146707 575 7750000\n",
       "7  edmonji01 0.4102142 500 6333333\n",
       "8  gilesbr02 0.4035608 576 7333333\n",
       "9  pujolal01 0.4029630 590  200000\n",
       "10 olerujo01 0.4011799 572 6700000"
      ]
     },
     "metadata": {},
     "output_type": "display_data"
    }
   ],
   "source": [
    "targets <- targets[,c('playerID','OBP','AB','salary')]\n",
    "targets"
   ]
  },
  {
   "cell_type": "markdown",
   "metadata": {},
   "source": [
    "#### Should exclude giambja01. So, Top 5 targets should be...."
   ]
  },
  {
   "cell_type": "code",
   "execution_count": 29,
   "metadata": {},
   "outputs": [
    {
     "name": "stdout",
     "output_type": "stream",
     "text": [
      "   playerID       OBP  AB  salary\n",
      "2 heltoto01 0.4316547 587 4950000\n",
      "3 berkmla01 0.4302326 577  305000\n",
      "4 gonzalu01 0.4285714 609 4833333\n",
      "5 thomeji01 0.4161491 526 7875000\n",
      "6 alomaro01 0.4146707 575 7750000\n"
     ]
    }
   ],
   "source": [
    "print(targets[2:6,])"
   ]
  },
  {
   "cell_type": "markdown",
   "metadata": {},
   "source": [
    "## END!!!"
   ]
  },
  {
   "cell_type": "code",
   "execution_count": null,
   "metadata": {},
   "outputs": [],
   "source": []
  }
 ],
 "metadata": {
  "kernelspec": {
   "display_name": "R",
   "language": "R",
   "name": "ir"
  },
  "language_info": {
   "codemirror_mode": "r",
   "file_extension": ".r",
   "mimetype": "text/x-r-source",
   "name": "R",
   "pygments_lexer": "r",
   "version": "4.0.2"
  }
 },
 "nbformat": 4,
 "nbformat_minor": 4
}
